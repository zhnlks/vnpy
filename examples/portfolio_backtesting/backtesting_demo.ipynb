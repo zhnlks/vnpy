{
 "cells": [
  {
   "cell_type": "code",
   "execution_count": null,
   "metadata": {},
   "outputs": [],
   "source": [
    "#%%\n",
    "from datetime import datetime\n",
    "\n",
    "from vnpy.app.portfolio_strategy import BacktestingEngine\n",
    "from vnpy.app.portfolio_strategy.strategies.trend_following_strategy import TrendFollowingStrategy\n",
    "from vnpy.trader.constant import Interval"
   ]
  },
  {
   "cell_type": "code",
   "execution_count": null,
   "metadata": {},
   "outputs": [],
   "source": [
    "#%%\n",
    "engine = BacktestingEngine()\n",
    "engine.set_parameters(\n",
    "    vt_symbols=[\"IF888.CFFEX\"],\n",
    "    interval=Interval.MINUTE,\n",
    "    start=datetime(2010, 2, 1),\n",
    "    end=datetime(2020, 4, 30),\n",
    "    rates={\"IF888.CFFEX\": 0.3/10000},\n",
    "    slippages={\"IF888.CFFEX\": 0.2},\n",
    "    sizes={\"IF888.CFFEX\": 300},\n",
    "    priceticks={\"IF888.CFFEX\": 0.2},\n",
    "    capital=1_000_000,\n",
    ")\n",
    "engine.add_strategy(TrendFollowingStrategy, {})"
   ]
  },
  {
   "cell_type": "code",
   "execution_count": null,
   "metadata": {
    "scrolled": false
   },
   "outputs": [],
   "source": [
    "#%%\n",
    "engine.load_data()\n",
    "engine.run_backtesting()\n",
    "df = engine.calculate_result()\n",
    "engine.calculate_statistics()\n",
    "engine.show_chart()"
   ]
  }
 ],
 "metadata": {
  "kernelspec": {
   "display_name": "Python 3",
   "language": "python",
   "name": "python3"
  },
  "language_info": {
   "codemirror_mode": {
    "name": "ipython",
    "version": 3
   },
   "file_extension": ".py",
   "mimetype": "text/x-python",
   "name": "python",
   "nbconvert_exporter": "python",
   "pygments_lexer": "ipython3",
   "version": "3.7.4"
  }
 },
 "nbformat": 4,
 "nbformat_minor": 2
}
